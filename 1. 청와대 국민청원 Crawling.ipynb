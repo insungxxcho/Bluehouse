{
 "cells": [
  {
   "cell_type": "markdown",
   "metadata": {},
   "source": [
    "## 1. 국민청원 크롤링\n",
    " \n"
   ]
  },
  {
   "cell_type": "code",
   "execution_count": 1,
   "metadata": {},
   "outputs": [
    {
     "ename": "NameError",
     "evalue": "name 'empty' is not defined",
     "output_type": "error",
     "traceback": [
      "\u001b[1;31m---------------------------------------------------------------------------\u001b[0m",
      "\u001b[1;31mAttributeError\u001b[0m                            Traceback (most recent call last)",
      "\u001b[1;32m<ipython-input-1-3c82c7161e85>\u001b[0m in \u001b[0;36m<module>\u001b[1;34m\u001b[0m\n\u001b[0;32m     18\u001b[0m         \u001b[0mt\u001b[0m \u001b[1;33m=\u001b[0m \u001b[0msoup\u001b[0m\u001b[1;33m.\u001b[0m\u001b[0mfind\u001b[0m\u001b[1;33m(\u001b[0m\u001b[1;34m'h3'\u001b[0m\u001b[1;33m,\u001b[0m\u001b[1;33m{\u001b[0m\u001b[1;34m'class'\u001b[0m\u001b[1;33m:\u001b[0m\u001b[1;34m'petitionsView_title'\u001b[0m\u001b[1;33m}\u001b[0m\u001b[1;33m)\u001b[0m\u001b[1;33m\u001b[0m\u001b[1;33m\u001b[0m\u001b[0m\n\u001b[1;32m---> 19\u001b[1;33m         \u001b[0mtitle\u001b[0m\u001b[1;33m.\u001b[0m\u001b[0mappend\u001b[0m\u001b[1;33m(\u001b[0m\u001b[0mt\u001b[0m\u001b[1;33m.\u001b[0m\u001b[0mtext\u001b[0m\u001b[1;33m)\u001b[0m\u001b[1;33m\u001b[0m\u001b[1;33m\u001b[0m\u001b[0m\n\u001b[0m\u001b[0;32m     20\u001b[0m \u001b[1;33m\u001b[0m\u001b[0m\n",
      "\u001b[1;31mAttributeError\u001b[0m: 'NoneType' object has no attribute 'text'",
      "\nDuring handling of the above exception, another exception occurred:\n",
      "\u001b[1;31mNameError\u001b[0m                                 Traceback (most recent call last)",
      "\u001b[1;32m<ipython-input-1-3c82c7161e85>\u001b[0m in \u001b[0;36m<module>\u001b[1;34m\u001b[0m\n\u001b[0;32m     38\u001b[0m \u001b[1;33m\u001b[0m\u001b[0m\n\u001b[0;32m     39\u001b[0m     \u001b[1;32mexcept\u001b[0m\u001b[1;33m:\u001b[0m\u001b[1;33m\u001b[0m\u001b[1;33m\u001b[0m\u001b[0m\n\u001b[1;32m---> 40\u001b[1;33m         \u001b[0mempty\u001b[0m\u001b[1;33m.\u001b[0m\u001b[0mappend\u001b[0m\u001b[1;33m(\u001b[0m\u001b[0mn\u001b[0m\u001b[1;33m[\u001b[0m\u001b[0mx\u001b[0m\u001b[1;33m]\u001b[0m\u001b[1;33m)\u001b[0m\u001b[1;33m\u001b[0m\u001b[1;33m\u001b[0m\u001b[0m\n\u001b[0m\u001b[0;32m     41\u001b[0m         \u001b[0mprint\u001b[0m\u001b[1;33m(\u001b[0m\u001b[0mn\u001b[0m\u001b[1;33m[\u001b[0m\u001b[0mx\u001b[0m\u001b[1;33m]\u001b[0m\u001b[1;33m)\u001b[0m\u001b[1;33m\u001b[0m\u001b[1;33m\u001b[0m\u001b[0m\n\u001b[0;32m     42\u001b[0m         \u001b[1;32mcontinue\u001b[0m\u001b[1;33m\u001b[0m\u001b[1;33m\u001b[0m\u001b[0m\n",
      "\u001b[1;31mNameError\u001b[0m: name 'empty' is not defined"
     ]
    }
   ],
   "source": [
    "import requests\n",
    "from bs4 import BeautifulSoup\n",
    "import pandas as pd\n",
    "import pandas as pd\n",
    "import numpy as np\n",
    "import re\n",
    "\n",
    "n = [i for i in range(20,585032)]\n",
    "title =[] ; category =[] ; startdate =[] ; enddate =[] ; count =[] ; content =[] ; idd = [] ; empty=[]\n",
    "\n",
    "for x in range(len(n)):\n",
    "    try :\n",
    "        URL = 'https://www1.president.go.kr/petitions/'+str(n[x])\n",
    "        html = requests.get(URL).text\n",
    "        soup = BeautifulSoup(html,'html.parser')\n",
    "        \n",
    "        # title\n",
    "        t = soup.find('h3',{'class':'petitionsView_title'})\n",
    "        title.append(t.text)\n",
    "        \n",
    "        # votes 수\n",
    "        count.append(int(soup.find('span',{'class':'counter'}).text.replace(',','')))\n",
    "        \n",
    "        # 카테고리와 시작 및 종료일\n",
    "        c = soup.find_all('ul',{'class':'petitionsView_info_list'})\n",
    "        category.append(c[0].text.split('\\n')[1][4:])\n",
    "        startdate.append(c[0].text.split('\\n')[2][4:])\n",
    "        enddate.append(c[0].text.split('\\n')[3][4:])\n",
    "        \n",
    "        # 내용\n",
    "        con=soup.find('div',{'class':'View_write'})\n",
    "        content.append(con.text)\n",
    "        \n",
    "        if len(content) != len(title):\n",
    "            print(URL)\n",
    "        idd.append(n[x])\n",
    "    \n",
    "    except:\n",
    "        empty.append(n[x])\n",
    "        print(n[x])\n",
    "        continue\n",
    "\n",
    "dic = {'article_id': idd, 'start': startdate,'end': enddate, 'votes': count,\n",
    "       'category': category,'title':title, 'content': content}\n",
    "df= pd.DataFrame(dic)\n",
    "\n"
   ]
  },
  {
   "cell_type": "code",
   "execution_count": 2,
   "metadata": {},
   "outputs": [
    {
     "data": {
      "text/plain": [
       "(355, 7)"
      ]
     },
     "execution_count": 2,
     "metadata": {},
     "output_type": "execute_result"
    }
   ],
   "source": [
    "df.shape"
   ]
  },
  {
   "cell_type": "code",
   "execution_count": 3,
   "metadata": {},
   "outputs": [
    {
     "data": {
      "text/html": [
       "<div>\n",
       "<style scoped>\n",
       "    .dataframe tbody tr th:only-of-type {\n",
       "        vertical-align: middle;\n",
       "    }\n",
       "\n",
       "    .dataframe tbody tr th {\n",
       "        vertical-align: top;\n",
       "    }\n",
       "\n",
       "    .dataframe thead th {\n",
       "        text-align: right;\n",
       "    }\n",
       "</style>\n",
       "<table border=\"1\" class=\"dataframe\">\n",
       "  <thead>\n",
       "    <tr style=\"text-align: right;\">\n",
       "      <th></th>\n",
       "      <th>article_id</th>\n",
       "      <th>start</th>\n",
       "      <th>end</th>\n",
       "      <th>votes</th>\n",
       "      <th>category</th>\n",
       "      <th>title</th>\n",
       "      <th>content</th>\n",
       "    </tr>\n",
       "  </thead>\n",
       "  <tbody>\n",
       "    <tr>\n",
       "      <th>0</th>\n",
       "      <td>584677</td>\n",
       "      <td>2020-02-03</td>\n",
       "      <td>2020-03-04</td>\n",
       "      <td>177</td>\n",
       "      <td>안전/환경</td>\n",
       "      <td>주 90시간 이상의 심각한 과다업무로 인해 질병 사망한 아버지의 업무상 재해승인과 ...</td>\n",
       "      <td>\\n\\t\\t\\t\\t\\t\\t\\t\\t\\t\\t주당 90여 시간의 심각한 과다업무로 인해 ...</td>\n",
       "    </tr>\n",
       "    <tr>\n",
       "      <th>1</th>\n",
       "      <td>584678</td>\n",
       "      <td>2020-02-03</td>\n",
       "      <td>2020-03-04</td>\n",
       "      <td>2857</td>\n",
       "      <td>교통/건축/국토</td>\n",
       "      <td>화물운송 종사자를 위한 안전운임제가 해운물류업계의 안전을 심각하게 위협하고 있습니다.</td>\n",
       "      <td>\\n\\t\\t\\t\\t\\t\\t\\t\\t\\t\\t화물운송 종사자를 위한 안전운임제가 해운물류...</td>\n",
       "    </tr>\n",
       "    <tr>\n",
       "      <th>2</th>\n",
       "      <td>584679</td>\n",
       "      <td>2020-02-03</td>\n",
       "      <td>2020-03-04</td>\n",
       "      <td>228</td>\n",
       "      <td>보건복지</td>\n",
       "      <td>친권 없는 한부모도 양육비 받을수 있도록 해주세요</td>\n",
       "      <td>\\n\\t\\t\\t\\t\\t\\t\\t\\t\\t\\t저는 이혼 후 친권. 양육권 없이 두아들을 ...</td>\n",
       "    </tr>\n",
       "    <tr>\n",
       "      <th>3</th>\n",
       "      <td>584680</td>\n",
       "      <td>2020-02-03</td>\n",
       "      <td>2020-03-04</td>\n",
       "      <td>939</td>\n",
       "      <td>저출산/고령화대책</td>\n",
       "      <td>이른둥이(미숙아)의 출생신고 기준일 예정일로 변경 요청합니다.</td>\n",
       "      <td>\\n\\t\\t\\t\\t\\t\\t\\t\\t\\t\\t존경하는 대통령님\\r\\n부모로써 간곡한 청원...</td>\n",
       "    </tr>\n",
       "    <tr>\n",
       "      <th>4</th>\n",
       "      <td>584681</td>\n",
       "      <td>2020-02-03</td>\n",
       "      <td>2020-03-04</td>\n",
       "      <td>138</td>\n",
       "      <td>인권/성평등</td>\n",
       "      <td>“ 난장이가 쏘아올린 작은 공 “ : 평등·공정·정의라는 대통령님의 핵심가치에 반한...</td>\n",
       "      <td>\\n\\t\\t\\t\\t\\t\\t\\t\\t\\t\\t◎ 구청 공무원의 잘못된 행정 처리에 대해 ...</td>\n",
       "    </tr>\n",
       "  </tbody>\n",
       "</table>\n",
       "</div>"
      ],
      "text/plain": [
       "   article_id       start         end  votes   category  \\\n",
       "0      584677  2020-02-03  2020-03-04    177      안전/환경   \n",
       "1      584678  2020-02-03  2020-03-04   2857   교통/건축/국토   \n",
       "2      584679  2020-02-03  2020-03-04    228       보건복지   \n",
       "3      584680  2020-02-03  2020-03-04    939  저출산/고령화대책   \n",
       "4      584681  2020-02-03  2020-03-04    138     인권/성평등   \n",
       "\n",
       "                                               title  \\\n",
       "0  주 90시간 이상의 심각한 과다업무로 인해 질병 사망한 아버지의 업무상 재해승인과 ...   \n",
       "1    화물운송 종사자를 위한 안전운임제가 해운물류업계의 안전을 심각하게 위협하고 있습니다.   \n",
       "2                        친권 없는 한부모도 양육비 받을수 있도록 해주세요   \n",
       "3                 이른둥이(미숙아)의 출생신고 기준일 예정일로 변경 요청합니다.   \n",
       "4  “ 난장이가 쏘아올린 작은 공 “ : 평등·공정·정의라는 대통령님의 핵심가치에 반한...   \n",
       "\n",
       "                                             content  \n",
       "0  \\n\\t\\t\\t\\t\\t\\t\\t\\t\\t\\t주당 90여 시간의 심각한 과다업무로 인해 ...  \n",
       "1  \\n\\t\\t\\t\\t\\t\\t\\t\\t\\t\\t화물운송 종사자를 위한 안전운임제가 해운물류...  \n",
       "2  \\n\\t\\t\\t\\t\\t\\t\\t\\t\\t\\t저는 이혼 후 친권. 양육권 없이 두아들을 ...  \n",
       "3  \\n\\t\\t\\t\\t\\t\\t\\t\\t\\t\\t존경하는 대통령님\\r\\n부모로써 간곡한 청원...  \n",
       "4  \\n\\t\\t\\t\\t\\t\\t\\t\\t\\t\\t◎ 구청 공무원의 잘못된 행정 처리에 대해 ...  "
      ]
     },
     "execution_count": 3,
     "metadata": {},
     "output_type": "execute_result"
    }
   ],
   "source": [
    "df.head()"
   ]
  },
  {
   "cell_type": "code",
   "execution_count": 4,
   "metadata": {},
   "outputs": [],
   "source": [
    "df.to_csv('df_now2.csv',mode= 'w',index=False)"
   ]
  },
  {
   "cell_type": "code",
   "execution_count": null,
   "metadata": {},
   "outputs": [],
   "source": []
  }
 ],
 "metadata": {
  "kernelspec": {
   "display_name": "Python 3",
   "language": "python",
   "name": "python3"
  },
  "language_info": {
   "codemirror_mode": {
    "name": "ipython",
    "version": 3
   },
   "file_extension": ".py",
   "mimetype": "text/x-python",
   "name": "python",
   "nbconvert_exporter": "python",
   "pygments_lexer": "ipython3",
   "version": "3.7.4"
  }
 },
 "nbformat": 4,
 "nbformat_minor": 2
}
